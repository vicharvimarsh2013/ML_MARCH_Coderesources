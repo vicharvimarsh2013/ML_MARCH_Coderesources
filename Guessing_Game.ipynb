{
  "nbformat": 4,
  "nbformat_minor": 0,
  "metadata": {
    "colab": {
      "provenance": []
    },
    "kernelspec": {
      "name": "python3",
      "display_name": "Python 3"
    },
    "language_info": {
      "name": "python"
    }
  },
  "cells": [
    {
      "cell_type": "markdown",
      "source": [],
      "metadata": {
        "id": "_iFEEeLpFIgD"
      }
    },
    {
      "cell_type": "code",
      "source": [
        "import random\n",
        "\n",
        "#Generate a random number using random\n",
        "secret_number = random.randint(1,10)\n",
        "#Variable assign value\n",
        "user_guess= int(input(\"Guess a number between 1 and 10:\"))\n",
        "#if correct and else display not correct\n",
        "if secret_number==user_guess:\n",
        "  print(\"You have guessed right!!!!\")\n",
        "else:\n",
        "  print(\"Oh no ! You have guessed it wrong\")\n",
        "print(secret_number)"
      ],
      "metadata": {
        "colab": {
          "base_uri": "https://localhost:8080/"
        },
        "id": "MbZMKezPFSlo",
        "outputId": "7ce88b5b-5be9-491e-e25c-4b2f9cf56865"
      },
      "execution_count": null,
      "outputs": [
        {
          "output_type": "stream",
          "name": "stdout",
          "text": [
            "Guess a number between 1 and 10:6\n",
            "Oh no ! You have guessed it wrong\n",
            "7\n"
          ]
        }
      ]
    },
    {
      "cell_type": "code",
      "source": [
        "number=10\n",
        "user_num=int(input(\"Enter your number:\"))\n",
        "if (number>user_num):\n",
        "  print(\"number is greater\")\n",
        "elif(number<user_num):\n",
        "  print(\"number is smaller\")\n",
        "else:\n",
        "  print(\"number is equal\")\n"
      ],
      "metadata": {
        "colab": {
          "base_uri": "https://localhost:8080/"
        },
        "id": "JWNnkQGHHuXc",
        "outputId": "e7f85da9-7b70-47d3-d430-fe82aa163a84"
      },
      "execution_count": null,
      "outputs": [
        {
          "output_type": "stream",
          "name": "stdout",
          "text": [
            "Enter your number:14\n",
            "number is smaller\n"
          ]
        }
      ]
    },
    {
      "cell_type": "code",
      "source": [
        "#Dictionary\n",
        "#Key- Value pair in Dictionary\n",
        "building_blocks={\n",
        "    \"A\":101,\n",
        "    \"B\":102,\n",
        "    \"C\":201,\n",
        "}\n",
        "print(building_blocks)\n",
        "\n",
        "#unique keys no duplicates in keys"
      ],
      "metadata": {
        "colab": {
          "base_uri": "https://localhost:8080/"
        },
        "id": "L-kLHAkdIJCz",
        "outputId": "c4805706-baa3-4a47-8e8f-a64af168b4a0"
      },
      "execution_count": null,
      "outputs": [
        {
          "output_type": "stream",
          "name": "stdout",
          "text": [
            "{'A': 101, 'B': 102, 'C': 201}\n"
          ]
        }
      ]
    },
    {
      "cell_type": "code",
      "source": [
        "#Set\n",
        "Solar_system={\"Sun\",\"Moon\",\"Sky\", \"Earth\"}\n",
        "print(Solar_system)\n",
        "num={1,2,3,4,5}\n",
        "print(num)\n"
      ],
      "metadata": {
        "colab": {
          "base_uri": "https://localhost:8080/"
        },
        "id": "zdpshUhZZnHr",
        "outputId": "b5d9e57d-ffd5-4291-bf85-dd3c110fbaee"
      },
      "execution_count": null,
      "outputs": [
        {
          "output_type": "stream",
          "name": "stdout",
          "text": [
            "{'Earth', 'Sky', 'Sun', 'Moon'}\n",
            "{1, 2, 3, 4, 5}\n"
          ]
        }
      ]
    },
    {
      "cell_type": "code",
      "source": [
        "# universe=[\"blackhole\",\"asteriods\",\"Galaxy\",\"Samsung\",\"Comets\",\"Binod\",\"Chandrayanthree\"]\n",
        "# for i in universe:\n",
        "#   print(i)\n",
        "\n",
        "universe=[\"O\",\"K\",\"A\",\"Y\",\"B\",\"Y\",\"E\"]\n",
        "for i in universe:\n",
        "  print(i)"
      ],
      "metadata": {
        "colab": {
          "base_uri": "https://localhost:8080/"
        },
        "id": "RKNoMVoObajj",
        "outputId": "a96e55e5-ef80-43d8-f80d-c6f1768ddbcf"
      },
      "execution_count": null,
      "outputs": [
        {
          "output_type": "stream",
          "name": "stdout",
          "text": [
            "O\n",
            "K\n",
            "A\n",
            "Y\n",
            "B\n",
            "Y\n",
            "E\n"
          ]
        }
      ]
    }
  ]
}