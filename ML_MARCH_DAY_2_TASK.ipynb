{
  "nbformat": 4,
  "nbformat_minor": 0,
  "metadata": {
    "colab": {
      "provenance": []
    },
    "kernelspec": {
      "name": "python3",
      "display_name": "Python 3"
    },
    "language_info": {
      "name": "python"
    }
  },
  "cells": [
    {
      "cell_type": "markdown",
      "source": [
        "<h1></b1>STUDENT GRADE CLASSIFIER</b></h1>"
      ],
      "metadata": {
        "id": "GdXx724pes1n"
      }
    },
    {
      "cell_type": "code",
      "execution_count": null,
      "metadata": {
        "id": "1mOerhhTePHP"
      },
      "outputs": [],
      "source": [
        "# Create an empty dictionary to store student information\n",
        "students = {}\n",
        "\n",
        "# Get the number of students from the user\n",
        "num_students = int(input(\"Enter the number of students: \"))\n",
        "\n",
        "# TASK---1---Iterate through each student\n",
        "\n",
        "# TASK---2---Get student name and score from the user\n",
        "\n",
        "# TASK--3 Determine the grade based on the score\n",
        "\n",
        "\n",
        "# Print the student data\n",
        "print(\"Student Data:\")\n",
        "for name, info in students.items():\n",
        "    print(f\"{name}: Score - {info['Score']}, Grade - {info['Grade']}\")\n",
        "\n",
        "#OUTPUT TO BE DISPLAYED\n",
        "# Enter the number of students: 3\n",
        "# Enter student name: Alice\n",
        "# Enter student score: 95\n",
        "# Enter student name: Bob\n",
        "# Enter student score: 82\n",
        "# Enter student name: Charlie\n",
        "# Enter student score: 78\n"
      ]
    },
    {
      "cell_type": "markdown",
      "source": [],
      "metadata": {
        "id": "8RRbl0aXerm3"
      }
    },
    {
      "cell_type": "code",
      "source": [
        "rows = 5  # You can adjust the number of rows as per your requirement\n",
        "\n",
        "# TASK---1----Upper part of the diamond\n",
        "\n",
        "\n",
        "\n",
        "# TASK---2---Lower part of the diamond\n",
        "\n",
        "\n",
        "\n",
        "#OUTPUT TO BE DISPLAYED\n",
        "#     *\n",
        "#    ***\n",
        "#   *****\n",
        "#  *******\n",
        "# *********\n",
        "#  *******\n",
        "#   *****\n",
        "#    ***\n",
        "#     *\n"
      ],
      "metadata": {
        "id": "BxYZb_c5e_Kn"
      },
      "execution_count": null,
      "outputs": []
    }
  ]
}